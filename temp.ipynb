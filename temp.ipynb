{
 "cells": [
  {
   "cell_type": "code",
   "execution_count": 5,
   "metadata": {},
   "outputs": [],
   "source": [
    "import os\n",
    "from tqdm import tqdm\n",
    "import pdfplumber\n",
    "\n",
    "from version_1_1.util import *\n",
    "from version_1_1.caption_module.caption_extraction import *"
   ]
  },
  {
   "cell_type": "code",
   "execution_count": 8,
   "metadata": {},
   "outputs": [],
   "source": [
    "pdf = pdfplumber.open('version_1_1\\pdf_file\\[임시미래에셋대우스팩3호]분기보고서.pdf') # open ith file\n",
    "pages = pdf.pages # define each page\n",
    "page = pages[0]\n"
   ]
  },
  {
   "cell_type": "code",
   "execution_count": 9,
   "metadata": {},
   "outputs": [],
   "source": [
    "table_object = page.find_tables(table_settings={'vertical_strategy': 'lines', 'horizontal_strategy': 'lines'})"
   ]
  },
  {
   "cell_type": "code",
   "execution_count": 21,
   "metadata": {},
   "outputs": [
    {
     "name": "stdout",
     "output_type": "stream",
     "text": [
      "(50.0, 374.0, 545.0, 469.0)\n"
     ]
    }
   ],
   "source": [
    "table_bbox = table_object[0].bbox\n",
    "print((table_bbox))"
   ]
  },
  {
   "cell_type": "code",
   "execution_count": 24,
   "metadata": {},
   "outputs": [],
   "source": [
    "im= page.crop(table_bbox).to_image(resolution=200)"
   ]
  },
  {
   "cell_type": "code",
   "execution_count": 28,
   "metadata": {},
   "outputs": [],
   "source": [
    "im.save('version_1_1/cropped_table/sample_crop_table.png')"
   ]
  },
  {
   "cell_type": "code",
   "execution_count": null,
   "metadata": {},
   "outputs": [],
   "source": []
  }
 ],
 "metadata": {
  "kernelspec": {
   "display_name": "Python 3.8.12 ('torch_practice')",
   "language": "python",
   "name": "python3"
  },
  "language_info": {
   "codemirror_mode": {
    "name": "ipython",
    "version": 3
   },
   "file_extension": ".py",
   "mimetype": "text/x-python",
   "name": "python",
   "nbconvert_exporter": "python",
   "pygments_lexer": "ipython3",
   "version": "3.8.12"
  },
  "orig_nbformat": 4,
  "vscode": {
   "interpreter": {
    "hash": "3ac71d13a5a04dc7f39e92ad71d27d88cbc832f95ee54141fea156cb0c8a95c2"
   }
  }
 },
 "nbformat": 4,
 "nbformat_minor": 2
}
